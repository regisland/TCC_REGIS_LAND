{
 "cells": [
  {
   "cell_type": "code",
   "execution_count": 1,
   "metadata": {},
   "outputs": [],
   "source": [
    "import pandas as pd\n",
    "import numpy as np\n",
    "from sklearn.model_selection import train_test_split\n",
    "from sklearn.linear_model import LogisticRegression\n",
    "from sklearn.metrics import classification_report, confusion_matrix\n",
    "from sklearn.preprocessing import LabelEncoder\n",
    "\n",
    "# Supondo que o dataframe 'df' tenha as colunas 'feridos_leves', 'feridos_graves' e 'mortos'\n",
    "# Criar a coluna 'gravidade' com base nas condições especificadas\n",
    "df = pd.read_excel(r'C:\\Users\\a475039\\Desktop\\TCC Dataset\\PR_2019_2023.xlsx')\n",
    "\n",
    "condicoes = [\n",
    "    (df['mortos'] > 0) | (df['feridos_graves'] > 0),  # Condição para \"grave\"\n",
    "    (df['feridos_leves'] > 0) & (df['mortos'] == 0) & (df['feridos_graves'] == 0),  # Condição para \"moderado\"\n",
    "    (df['feridos_leves'] == 0) & (df['feridos_graves'] == 0) & (df['mortos'] == 0)  # Condição para \"leve\"\n",
    "]\n",
    "\n",
    "valores = ['grave', 'moderado', 'leve']\n",
    "\n",
    "df['gravidade'] = np.select(condicoes, valores, default='indefinido')\n",
    "\n",
    "# Filtrar casos indefinidos, se houver\n",
    "df = df[df['gravidade'] != 'indefinido']\n",
    "\n",
    "# Selecionar apenas as colunas 'causa_acidente' e 'gravidade'\n",
    "df = df[['causa_acidente', 'gravidade']]\n",
    "\n",
    "# Remover categorias raras em 'causa_acidente'\n",
    "contagem_causas = df['causa_acidente'].value_counts()\n",
    "causas_frequentes = contagem_causas[contagem_causas > 10].index  # Ajuste o limite conforme necessário\n",
    "df = df[df['causa_acidente'].isin(causas_frequentes)]\n",
    "\n",
    "# Codificar 'causa_acidente' usando One Hot Encoding\n",
    "df_encoded = pd.get_dummies(df, columns=['causa_acidente'], drop_first=True)\n",
    "\n",
    "# Codificar a variável alvo 'gravidade' usando LabelEncoder\n",
    "le = LabelEncoder()\n",
    "df_encoded['gravidade'] = le.fit_transform(df_encoded['gravidade'])\n",
    "\n",
    "# Dividir os dados em variáveis independentes (X) e variável dependente (y)\n",
    "X = df_encoded.drop('gravidade', axis=1)\n",
    "y = df_encoded['gravidade']\n",
    "\n",
    "# Dividir os dados em conjuntos de treinamento e teste\n",
    "X_train, X_test, y_train, y_test = train_test_split(X, y, test_size=0.2, stratify=y, random_state=42)\n",
    "\n",
    "# Criar o modelo de regressão logística multinomial com regularização\n",
    "model = LogisticRegression(multi_class='multinomial', solver='lbfgs', max_iter=200, class_weight='balanced')\n",
    "\n",
    "# Treinar o modelo\n",
    "model.fit(X_train, y_train)\n",
    "\n",
    "# Fazer previsões no conjunto de teste\n",
    "y_pred = model.predict(X_test)\n"
   ]
  },
  {
   "cell_type": "code",
   "execution_count": 2,
   "metadata": {},
   "outputs": [
    {
     "name": "stdout",
     "output_type": "stream",
     "text": [
      "Relatório de Classificação:\n",
      "              precision    recall  f1-score   support\n",
      "\n",
      "       grave       0.38      0.46      0.42      1981\n",
      "        leve       0.36      0.40      0.38      1471\n",
      "    moderado       0.61      0.51      0.55      3885\n",
      "\n",
      "    accuracy                           0.48      7337\n",
      "   macro avg       0.45      0.46      0.45      7337\n",
      "weighted avg       0.50      0.48      0.48      7337\n",
      "\n"
     ]
    }
   ],
   "source": [
    "\n",
    "# Avaliar o modelo\n",
    "print(\"Relatório de Classificação:\")\n",
    "print(classification_report(y_test, y_pred, target_names=le.classes_))\n",
    "\n"
   ]
  },
  {
   "cell_type": "code",
   "execution_count": 3,
   "metadata": {},
   "outputs": [
    {
     "name": "stdout",
     "output_type": "stream",
     "text": [
      "Matriz de Confusão:\n",
      "[[ 918  325  738]\n",
      " [ 324  590  557]\n",
      " [1197  703 1985]]\n"
     ]
    }
   ],
   "source": [
    "\n",
    "print(\"Matriz de Confusão:\")\n",
    "print(confusion_matrix(y_test, y_pred))\n"
   ]
  },
  {
   "cell_type": "code",
   "execution_count": 4,
   "metadata": {},
   "outputs": [
    {
     "name": "stdout",
     "output_type": "stream",
     "text": [
      "Top 10 maiores coeficientes que mais afetam os acidentes graves:\n",
      "causa_acidente_Entrada inopinada do pedestre                                                   1.713789\n",
      "causa_acidente_Pedestre andava na pista                                                        1.457855\n",
      "causa_acidente_Pedestre cruzava a pista fora da faixa                                          1.387764\n",
      "causa_acidente_Falta de Atenção do Pedestre                                                    1.135268\n",
      "causa_acidente_Desobediência às normas de trânsito pelo pedestre                               0.963978\n",
      "causa_acidente_Ingestão de álcool ou de substâncias psicoativas pelo pedestre                  0.716777\n",
      "causa_acidente_Área urbana sem a presença de local apropriado para a travessia de pedestres    0.710490\n",
      "causa_acidente_Sinalização mal posicionada                                                     0.626167\n",
      "causa_acidente_Transitar na contramão                                                          0.617484\n",
      "causa_acidente_Mal Súbito                                                                      0.438860\n",
      "dtype: float64\n"
     ]
    }
   ],
   "source": [
    "\n",
    "# Coeficientes do modelo para a classe \"grave\"\n",
    "class_index = np.where(le.classes_ == 'grave')[0][0]\n",
    "grave_coefficients = model.coef_[class_index]\n",
    "\n",
    "# Obter os 10 maiores coeficientes que mais afetam os acidentes graves\n",
    "coef_series = pd.Series(grave_coefficients, index=X.columns)\n",
    "top_10_coefficients = coef_series.nlargest(10)\n",
    "\n",
    "print(\"Top 10 maiores coeficientes que mais afetam os acidentes graves:\")\n",
    "print(top_10_coefficients)"
   ]
  }
 ],
 "metadata": {
  "kernelspec": {
   "display_name": "Python 3",
   "language": "python",
   "name": "python3"
  },
  "language_info": {
   "codemirror_mode": {
    "name": "ipython",
    "version": 3
   },
   "file_extension": ".py",
   "mimetype": "text/x-python",
   "name": "python",
   "nbconvert_exporter": "python",
   "pygments_lexer": "ipython3",
   "version": "3.9.9"
  }
 },
 "nbformat": 4,
 "nbformat_minor": 2
}
